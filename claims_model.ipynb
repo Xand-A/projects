{
 "cells": [
  {
   "cell_type": "markdown",
   "id": "b89c3ab8-fdea-44d2-bcd3-aa2fc3add5f5",
   "metadata": {},
   "source": [
    "# Overview - determining liability in claims\n",
    "The objective of this project is to utilise the historical data of the claims and develop a liability prediction model which would enable the handlers to swiftly decide on Claims liability at FNOL Stage\n",
    "***"
   ]
  },
  {
   "cell_type": "markdown",
   "id": "2e112528-a35f-4b21-9976-b0d38bf4dfa0",
   "metadata": {},
   "source": [
    "## Import and prep data"
   ]
  },
  {
   "cell_type": "code",
   "execution_count": null,
   "id": "0608ff58-ffb6-4678-8384-9febe7d9c04c",
   "metadata": {
    "dc": {
     "key": "3"
    },
    "tags": [
     "sample_code"
    ]
   },
   "outputs": [],
   "source": [
    "# Import pandas using the usual alias\n",
    "import pandas as pd\n",
    "\n",
    "# Read the dataset from datasets/DataforRFmodel.xlsx in the sheet named 'Data'\n",
    "claims_raw = pd.read_excel('datasets/DataforRFmodel.xlsx', sheet_name = 'Data')\n",
    "\n",
    "# Print the data types of claims_raw\n",
    "print(\"Data types:\")\n",
    "print(claims_raw.dtypes)\n",
    "\n",
    "# Print the description of claims_raw\n",
    "print(\"\\nDescription:\")\n",
    "print(claims_raw.describe)\n",
    "\n",
    "# Display claims_raw\n",
    "print(\"\\nDataset:\")\n",
    "print(claims_raw)"
   ]
  },
  {
   "cell_type": "code",
   "execution_count": 4,
   "id": "d27498a7-f45e-494a-906f-e2e04d9dbdfc",
   "metadata": {
    "dc": {
     "key": "11"
    },
    "tags": [
     "sample_code"
    ]
   },
   "outputs": [
    {
     "name": "stdout",
     "output_type": "stream",
     "text": [
      "Number of missing values present in each feature are: \n",
      "Claim_number                 0\n",
      "Excess                       8\n",
      "Circumstance_code            9\n",
      "Organization_notified_by    12\n",
      "Method_of_notification       7\n",
      "NCD_indicator                2\n",
      "Notification_delay           0\n",
      "Injury                       0\n",
      "TP_vehicle_damaged           0\n",
      "Insured_vehicle_damaged      0\n",
      "Insured_age                  0\n",
      "Estimated_vehicle_value      0\n",
      "Liability_group              0\n",
      "dtype: int64\n",
      "<class 'pandas.core.frame.DataFrame'>\n",
      "Int64Index: 3620 entries, 0 to 3649\n",
      "Data columns (total 13 columns):\n",
      " #   Column                    Non-Null Count  Dtype  \n",
      "---  ------                    --------------  -----  \n",
      " 0   Claim_number              3620 non-null   object \n",
      " 1   Excess                    3620 non-null   float64\n",
      " 2   Circumstance_code         3620 non-null   object \n",
      " 3   Organization_notified_by  3620 non-null   object \n",
      " 4   Method_of_notification    3620 non-null   object \n",
      " 5   NCD_indicator             3620 non-null   object \n",
      " 6   Notification_delay        3620 non-null   int64  \n",
      " 7   Injury                    3620 non-null   int64  \n",
      " 8   TP_vehicle_damaged        3620 non-null   int64  \n",
      " 9   Insured_vehicle_damaged   3620 non-null   int64  \n",
      " 10  Insured_age               3620 non-null   int64  \n",
      " 11  Estimated_vehicle_value   3620 non-null   int64  \n",
      " 12  Liability_group           3620 non-null   object \n",
      "dtypes: float64(1), int64(6), object(6)\n",
      "memory usage: 395.9+ KB\n"
     ]
    }
   ],
   "source": [
    "# Count the number of missing values in each column of claims_raw\n",
    "n_missing = claims_raw.isna().sum()\n",
    "print(f\"Number of missing values present in each feature are: \\n{n_missing}\")\n",
    "\n",
    "# This code takes a copy of the dataset before we start subsetting\n",
    "claims = claims_raw.copy(deep = True)\n",
    "\n",
    "# Drop the missing values from the categorical features of claims\n",
    "categorical_features = ['Circumstance_code', 'Organization_notified_by', 'Method_of_notification', 'NCD_indicator']\n",
    "claims = claims.dropna(subset = categorical_features)\n",
    "\n",
    "# In the Excess feature, fill missing values with 0\n",
    "claims['Excess'] = claims['Excess'].fillna(0)\n",
    "\n",
    "# See the updated dataset\n",
    "claims.info()"
   ]
  },
  {
   "cell_type": "code",
   "execution_count": 6,
   "id": "597a567a-0161-438c-b39a-b9dea9a44fb1",
   "metadata": {
    "dc": {
     "key": "18"
    },
    "tags": [
     "sample_code"
    ]
   },
   "outputs": [
    {
     "name": "stdout",
     "output_type": "stream",
     "text": [
      "There are 10 duplicates in the Claim_number column.\n",
      "\n",
      "<class 'pandas.core.frame.DataFrame'>\n",
      "Int64Index: 3610 entries, 0 to 3649\n",
      "Data columns (total 12 columns):\n",
      " #   Column                    Non-Null Count  Dtype  \n",
      "---  ------                    --------------  -----  \n",
      " 0   Excess                    3610 non-null   float64\n",
      " 1   Circumstance_code         3610 non-null   object \n",
      " 2   Organization_notified_by  3610 non-null   object \n",
      " 3   Method_of_notification    3610 non-null   object \n",
      " 4   NCD_indicator             3610 non-null   object \n",
      " 5   Notification_delay        3610 non-null   int64  \n",
      " 6   Injury                    3610 non-null   int64  \n",
      " 7   TP_vehicle_damaged        3610 non-null   int64  \n",
      " 8   Insured_vehicle_damaged   3610 non-null   int64  \n",
      " 9   Insured_age               3610 non-null   int64  \n",
      " 10  Estimated_vehicle_value   3610 non-null   int64  \n",
      " 11  Liability_group           3610 non-null   object \n",
      "dtypes: float64(1), int64(6), object(5)\n",
      "memory usage: 366.6+ KB\n"
     ]
    }
   ],
   "source": [
    "# Count the duplicate claim numbers in the dataset\n",
    "n_dupes = claims.duplicated().sum()\n",
    "print(f\"There are {n_dupes} duplicates in the Claim_number column.\\n\")\n",
    "\n",
    "# Drop the duplicate claims from the dataset\n",
    "claims_no_dupes = claims.drop_duplicates()\n",
    "\n",
    "# Drop the entire Claim_number column from claims_no_dupes\n",
    "claims_no_dupes = claims_no_dupes.drop('Claim_number',axis=1)\n",
    "\n",
    "# See the updated dataset\n",
    "claims_no_dupes.info()"
   ]
  },
  {
   "cell_type": "markdown",
   "id": "c3621a13-c045-4620-8f6f-ecc87954c08a",
   "metadata": {},
   "source": [
    "## Develop the model"
   ]
  },
  {
   "cell_type": "code",
   "execution_count": 8,
   "id": "eb8945c3-f3a3-4fe0-9edc-69f6d7281161",
   "metadata": {
    "dc": {
     "key": "25"
    },
    "tags": [
     "sample_code"
    ]
   },
   "outputs": [],
   "source": [
    "# Import train_test_split() from sklearn.model_selection\n",
    "from sklearn.model_selection import train_test_split\n",
    "\n",
    "# Get the Liability_group column as the response variable\n",
    "response = claims_no_dupes['Liability_group']\n",
    "\n",
    "# Get all columns except Liability_group as the features\n",
    "features = claims_no_dupes.drop('Liability_group',axis=1)\n",
    "\n",
    "# Get dummies for categorical features\n",
    "dummies = pd.get_dummies(features,drop_first = True)\n",
    "\n",
    "# Split the data into training and testing sets\n",
    "X_train, X_test, y_train, y_test = train_test_split(dummies,response, test_size = 0.3, random_state =16660902)"
   ]
  },
  {
   "cell_type": "code",
   "execution_count": 10,
   "id": "c22715f1-0751-4069-83c6-ffab1c33aafe",
   "metadata": {
    "dc": {
     "key": "32"
    },
    "tags": [
     "sample_code"
    ]
   },
   "outputs": [
    {
     "data": {
      "text/plain": [
       "Fully_Liable    455\n",
       "Not_Liable      412\n",
       "Split_Liable    216\n",
       "dtype: int64"
      ]
     },
     "execution_count": 10,
     "metadata": {},
     "output_type": "execute_result"
    }
   ],
   "source": [
    "# Import RandomForestClassifier() from sklearn.ensemble\n",
    "from sklearn.ensemble import RandomForestClassifier\n",
    "\n",
    "# Create a random forest classifier object\n",
    "rf = RandomForestClassifier(random_state = 17551101)\n",
    "\n",
    "# Fit the random forest model to the training set\n",
    "rf.fit(X_train,y_train)\n",
    "\n",
    "# Predict the liabilities from the test features\n",
    "y_pred = rf.predict(X_test)\n",
    "\n",
    "# See the prediction counts\n",
    "pd.Series(y_pred).value_counts()"
   ]
  },
  {
   "cell_type": "code",
   "execution_count": 12,
   "id": "01b0a33b-e44f-4dfd-b8cb-6e326af9e052",
   "metadata": {
    "dc": {
     "key": "39"
    },
    "tags": [
     "sample_code"
    ]
   },
   "outputs": [
    {
     "name": "stdout",
     "output_type": "stream",
     "text": [
      "Accuracy score: 0.8024\n",
      "\n",
      "Confusion matrix:\n",
      "[[430  43  13]\n",
      " [ 20 297  61]\n",
      " [  5  72 142]]\n",
      "\n",
      "Classification report:\n",
      "              precision    recall  f1-score   support\n",
      "\n",
      "Fully_Liable       0.95      0.88      0.91       486\n",
      "  Not_Liable       0.72      0.79      0.75       378\n",
      "Split_Liable       0.66      0.65      0.65       219\n",
      "\n",
      "    accuracy                           0.80      1083\n",
      "   macro avg       0.77      0.77      0.77      1083\n",
      "weighted avg       0.81      0.80      0.80      1083\n",
      "\n"
     ]
    }
   ],
   "source": [
    "# Import classification_report(), confusion_matrix() and accuracy_score() from sklearn.metrics\n",
    "from sklearn.metrics import classification_report, confusion_matrix, accuracy_score\n",
    "\n",
    "# Get the accuracy score\n",
    "rf_accuracy_score = accuracy_score(y_test,y_pred)\n",
    "print(f\"Accuracy score: {rf_accuracy_score:.4f}\\n\")\n",
    "\n",
    "# Get the confusion matrix\n",
    "rf_confusion_matrix = confusion_matrix(y_test,y_pred)\n",
    "print(f\"Confusion matrix:\\n{rf_confusion_matrix}\\n\")\n",
    "\n",
    "# Get the classification report\n",
    "rf_classification_report = classification_report(y_test,y_pred)\n",
    "print(f\"Classification report:\\n{rf_classification_report}\")"
   ]
  },
  {
   "cell_type": "code",
   "execution_count": 14,
   "id": "06acc523-8885-47e0-9ff3-7eda7d04b2cb",
   "metadata": {
    "dc": {
     "key": "46"
    },
    "tags": [
     "sample_code"
    ]
   },
   "outputs": [
    {
     "name": "stdout",
     "output_type": "stream",
     "text": [
      "[0.79639889 0.82825485 0.81163435 0.81163435 0.82686981]\n",
      "Accuracy: 81.5%\n"
     ]
    }
   ],
   "source": [
    "# Import KFold() and cross_val_score() from sklearn.model_selection\n",
    "from sklearn.model_selection import KFold, cross_val_score\n",
    "\n",
    "# Setup up k-fold cross-validation with 5 splits, without using shuffling\n",
    "k_folds = KFold(n_splits=5,shuffle=False)\n",
    "\n",
    "# Calculate the cross-validation score for each fold\n",
    "accuracy_by_fold = cross_val_score(rf, dummies, response, cv=k_folds)\n",
    "\n",
    "# See the results\n",
    "print(accuracy_by_fold)\n",
    "print(f\"Accuracy: {accuracy_by_fold.mean():.1%}\")"
   ]
  },
  {
   "cell_type": "code",
   "execution_count": 16,
   "id": "f650eb01-0187-4304-a571-18254e011fe2",
   "metadata": {
    "dc": {
     "key": "53"
    },
    "tags": [
     "sample_code"
    ]
   },
   "outputs": [
    {
     "name": "stdout",
     "output_type": "stream",
     "text": [
      "Highest test score: 0.819\n",
      "Best hyperparameters: {'random_state': 19120415, 'n_estimators': 40, 'max_features': 12, 'max_depth': 10}\n"
     ]
    }
   ],
   "source": [
    "# Import ParameterGrid() from sklearn.model_selection\n",
    "from sklearn.model_selection import ParameterGrid\n",
    "\n",
    "# Import argmax() from numpy\n",
    "from numpy import argmax\n",
    "\n",
    "# Complete the hyperparameter grid\n",
    "hyperparameter_grid = ParameterGrid({\n",
    "    'n_estimators': [20, 40, 50], \n",
    "    'max_depth': [5, 10], \n",
    "    'max_features': [4, 8, 12], \n",
    "    'random_state': [19120415]\n",
    "})\n",
    "\n",
    "# This will store the model results\n",
    "test_scores = []\n",
    "\n",
    "# Loop over hyperparameter_grid\n",
    "for this_grid in hyperparameter_grid:\n",
    "    rf.set_params(**this_grid)\n",
    "    # Fit the random forest model to the training dataset\n",
    "    rf.fit(X_train, y_train)\n",
    "    # Calculate the random forest score on the test dataset\n",
    "    this_score = rf.score(X_test, y_test)\n",
    "    # Append the score from this iteration\n",
    "    test_scores.append(this_score)\n",
    "\n",
    "# Get the index of the highest test score\n",
    "best_idx = argmax(test_scores)\n",
    "\n",
    "# Get the value of the highest test score\n",
    "best_test_score = test_scores[best_idx]\n",
    "\n",
    "# Get the hyperparameter grid element with the highest test score\n",
    "best_hyperparameters = hyperparameter_grid[best_idx]\n",
    "\n",
    "# See the results\n",
    "print(f\"Highest test score: {best_test_score:.3f}\")\n",
    "print(f\"Best hyperparameters: {best_hyperparameters}\")"
   ]
  },
  {
   "cell_type": "code",
   "execution_count": 18,
   "id": "582cbe84-bb59-4ccd-8b8b-080eb313b8a4",
   "metadata": {
    "dc": {
     "key": "60"
    },
    "tags": [
     "sample_code"
    ]
   },
   "outputs": [
    {
     "name": "stdout",
     "output_type": "stream",
     "text": [
      "RandomForestClassifier(max_depth=10, max_features=12, n_estimators=40,\n",
      "                       random_state=19120415)\n",
      "Best accuracy score: 81.90%\n",
      "\n",
      "Best confusion matrix:\n",
      "[[433  47   6]\n",
      " [ 13 315  50]\n",
      " [  4  76 139]]\n",
      "\n",
      "Best classification report:\n",
      "              precision    recall  f1-score   support\n",
      "\n",
      "Fully_Liable       0.96      0.89      0.93       486\n",
      "  Not_Liable       0.72      0.83      0.77       378\n",
      "Split_Liable       0.71      0.63      0.67       219\n",
      "\n",
      "    accuracy                           0.82      1083\n",
      "   macro avg       0.80      0.79      0.79      1083\n",
      "weighted avg       0.83      0.82      0.82      1083\n",
      "\n"
     ]
    }
   ],
   "source": [
    "# Create a random forest classifier object with the best hyperparameters\n",
    "best_rf = RandomForestClassifier(\n",
    "    n_estimators=best_hyperparameters[\"n_estimators\"],\n",
    "    max_depth=best_hyperparameters[\"max_depth\"],\n",
    "    max_features=best_hyperparameters[\"max_features\"],\n",
    "    random_state=best_hyperparameters[\"random_state\"]\n",
    ")\n",
    "print(best_rf)\n",
    "\n",
    "# Fit this best model to the training set\n",
    "best_rf.fit(X_train,y_train)\n",
    "\n",
    "# Predict the responses from the testing set\n",
    "best_y_pred = best_rf.predict(X_test)\n",
    "\n",
    "# Get the accuracy score\n",
    "best_rf_accuracy_score = accuracy_score(y_test,best_y_pred)\n",
    "print(f\"Best accuracy score: {best_rf_accuracy_score:.2%}\\n\")\n",
    "\n",
    "# Get the confusion matrix\n",
    "best_rf_confusion_matrix = confusion_matrix(y_test,best_y_pred)\n",
    "print(f\"Best confusion matrix:\\n{best_rf_confusion_matrix}\\n\")\n",
    "\n",
    "# Get the classification report\n",
    "best_rf_classification_report = classification_report(y_test,best_y_pred)\n",
    "print(f\"Best classification report:\\n{best_rf_classification_report}\")"
   ]
  },
  {
   "cell_type": "code",
   "execution_count": 20,
   "id": "6ed4d795-2cee-4c99-93de-957a08fd69d0",
   "metadata": {
    "dc": {
     "key": "67"
    },
    "tags": [
     "sample_code"
    ]
   },
   "outputs": [
    {
     "data": {
      "image/png": "[encoded data removed]",
      "text/plain": [
       "<Figure size 720x720 with 1 Axes>"
      ]
     },
     "metadata": {
      "needs_background": "light"
     },
     "output_type": "display_data"
    }
   ],
   "source": [
    "# Import seaborn and matplotlib.pyplot using the usual alias\n",
    "import seaborn as sns\n",
    "import matplotlib.pyplot as plt\n",
    "\n",
    "# Code provided to increase the plot size for better legibility\n",
    "plt.rcParams['figure.figsize'] = (10, 10)\n",
    "\n",
    "# Create a DataFrame from a dictionary\n",
    "feature_importances = pd.DataFrame({\n",
    "    # Set the Feature column to the columns of dummies\n",
    "    'Feature':dummies.columns,\n",
    "    # Set the Value column to the feature importances of the best model\n",
    "    'Value':best_rf.feature_importances_\n",
    "})\n",
    "\n",
    "# Sort feature_importances by the Value column\n",
    "feature_importances_sorted = feature_importances.sort_values('Value', ascending = False)\n",
    "\n",
    "# Using feature_importances_sorted, draw a barplot of Feature vs. Value\n",
    "ax = sns.barplot(data = feature_importances_sorted, x='Value',y='Feature')\n",
    "plt.show()"
   ]
  },
  {
   "cell_type": "markdown",
   "id": "ac631ca4-e117-44e2-805c-17a68019717d",
   "metadata": {},
   "source": [
    "## More explanations with Shap"
   ]
  },
  {
   "cell_type": "code",
   "execution_count": 22,
   "id": "c14be834-a0aa-489c-bf28-6b79da3a7d79",
   "metadata": {
    "dc": {
     "key": "74"
    },
    "tags": [
     "sample_code"
    ]
   },
   "outputs": [
    {
     "data": {
      "image/png": "[encoded data removed]",
      "text/plain": [
       "<Figure size 576x684 with 1 Axes>"
      ]
     },
     "metadata": {
      "needs_background": "light"
     },
     "output_type": "display_data"
    }
   ],
   "source": [
    "# Import TreeExplainer, and summary_plot from shap\n",
    "import shap\n",
    "from shap import TreeExplainer, summary_plot\n",
    "\n",
    "# Create a tree explainer object from the best model\n",
    "explainer = TreeExplainer(best_rf)\n",
    "\n",
    "# Get the shap values from the testing features, without checking additivity\n",
    "shap_values = explainer.shap_values(X_test)\n",
    "\n",
    "# Draw a summary plot of the first shap value, with the testing features, getting class names from the best model\n",
    "shap.summary_plot(shap_values)"
   ]
  }
 ],
 "metadata": {
  "kernelspec": {
   "display_name": "Python 3",
   "language": "python",
   "name": "python3"
  },
  "language_info": {
   "codemirror_mode": {
    "name": "ipython",
    "version": 3
   },
   "file_extension": ".py",
   "mimetype": "text/x-python",
   "name": "python",
   "nbconvert_exporter": "python",
   "pygments_lexer": "ipython3",
   "version": "3.8.8"
  }
 },
 "nbformat": 4,
 "nbformat_minor": 5
}
